{
 "cells": [
  {
   "cell_type": "code",
   "execution_count": 1,
   "id": "66ba1a95",
   "metadata": {
    "papermill": {
     "duration": 0.016911,
     "end_time": "2025-02-28T19:55:00.998599",
     "exception": false,
     "start_time": "2025-02-28T19:55:00.981688",
     "status": "completed"
    },
    "tags": []
   },
   "outputs": [
    {
     "data": {
      "text/plain": [
       "'link dataset\\nhttps://www.kaggle.com/datasets/clmentbisaillon/fake-and-real-news-dataset\\n\\n'"
      ]
     },
     "execution_count": 1,
     "metadata": {},
     "output_type": "execute_result"
    }
   ],
   "source": [
    "'''link dataset\n",
    "https://www.kaggle.com/datasets/clmentbisaillon/fake-and-real-news-dataset\n",
    "'''"
   ]
  },
  {
   "cell_type": "code",
   "execution_count": 2,
   "id": "82984496",
   "metadata": {
    "execution": {
     "iopub.execute_input": "2025-02-28T19:55:01.009842Z",
     "iopub.status.busy": "2025-02-28T19:55:01.009586Z",
     "iopub.status.idle": "2025-02-28T19:55:16.329219Z",
     "shell.execute_reply": "2025-02-28T19:55:16.328509Z"
    },
    "papermill": {
     "duration": 15.326895,
     "end_time": "2025-02-28T19:55:16.331234",
     "exception": false,
     "start_time": "2025-02-28T19:55:01.004339",
     "status": "completed"
    },
    "tags": []
   },
   "outputs": [
    {
     "name": "stdout",
     "output_type": "stream",
     "text": [
      "[nltk_data] Downloading package punkt to /usr/share/nltk_data...\n",
      "[nltk_data]   Package punkt is already up-to-date!\n",
      "[nltk_data] Downloading package stopwords to /usr/share/nltk_data...\n",
      "[nltk_data]   Unzipping corpora/stopwords.zip.\n",
      "[nltk_data] Downloading package wordnet to /usr/share/nltk_data...\n",
      "[nltk_data]   Package wordnet is already up-to-date!\n"
     ]
    }
   ],
   "source": [
    "from pathlib import Path\n",
    "import os\n",
    "import re\n",
    "import html\n",
    "import string\n",
    "\n",
    "import unicodedata\n",
    "from sklearn.metrics import accuracy_score, classification_report,confusion_matrix\n",
    "\n",
    "\n",
    "import nltk\n",
    "nltk.download('punkt')\n",
    "from nltk.corpus import stopwords\n",
    "nltk.download('stopwords')\n",
    "nltk.download('wordnet')\n",
    "from nltk.stem import PorterStemmer\n",
    "from nltk.tokenize import word_tokenize, sent_tokenize\n",
    "from nltk.stem import WordNetLemmatizer\n",
    "\n",
    "from tensorflow.keras.preprocessing.text import text_to_word_sequence\n",
    "from tensorflow.keras.preprocessing.text import Tokenizer\n",
    "from tensorflow.keras.preprocessing.sequence import pad_sequences\n",
    "from tensorflow.keras import models\n",
    "from tensorflow.keras import layers\n",
    "from tensorflow.keras import losses\n",
    "from tensorflow.keras import metrics\n",
    "from tensorflow.keras import optimizers\n",
    "from tensorflow.keras.callbacks import EarlyStopping\n",
    "import pandas as pd\n",
    "import matplotlib.pyplot as plt\n",
    "import seaborn as sns\n",
    "import numpy as np\n"
   ]
  },
  {
   "cell_type": "code",
   "execution_count": 3,
   "id": "20c49f80",
   "metadata": {
    "execution": {
     "iopub.execute_input": "2025-02-28T19:55:16.342029Z",
     "iopub.status.busy": "2025-02-28T19:55:16.341595Z",
     "iopub.status.idle": "2025-02-28T19:55:17.593049Z",
     "shell.execute_reply": "2025-02-28T19:55:17.592122Z"
    },
    "papermill": {
     "duration": 1.258616,
     "end_time": "2025-02-28T19:55:17.594794",
     "exception": false,
     "start_time": "2025-02-28T19:55:16.336178",
     "status": "completed"
    },
    "tags": []
   },
   "outputs": [
    {
     "data": {
      "text/html": [
       "<div>\n",
       "<style scoped>\n",
       "    .dataframe tbody tr th:only-of-type {\n",
       "        vertical-align: middle;\n",
       "    }\n",
       "\n",
       "    .dataframe tbody tr th {\n",
       "        vertical-align: top;\n",
       "    }\n",
       "\n",
       "    .dataframe thead th {\n",
       "        text-align: right;\n",
       "    }\n",
       "</style>\n",
       "<table border=\"1\" class=\"dataframe\">\n",
       "  <thead>\n",
       "    <tr style=\"text-align: right;\">\n",
       "      <th></th>\n",
       "      <th>title</th>\n",
       "      <th>text</th>\n",
       "      <th>subject</th>\n",
       "      <th>date</th>\n",
       "      <th>news_type</th>\n",
       "    </tr>\n",
       "  </thead>\n",
       "  <tbody>\n",
       "    <tr>\n",
       "      <th>0</th>\n",
       "      <td>Donald Trump Sends Out Embarrassing New Year’...</td>\n",
       "      <td>Donald Trump just couldn t wish all Americans ...</td>\n",
       "      <td>News</td>\n",
       "      <td>December 31, 2017</td>\n",
       "      <td>0</td>\n",
       "    </tr>\n",
       "    <tr>\n",
       "      <th>1</th>\n",
       "      <td>Drunk Bragging Trump Staffer Started Russian ...</td>\n",
       "      <td>House Intelligence Committee Chairman Devin Nu...</td>\n",
       "      <td>News</td>\n",
       "      <td>December 31, 2017</td>\n",
       "      <td>0</td>\n",
       "    </tr>\n",
       "    <tr>\n",
       "      <th>2</th>\n",
       "      <td>Sheriff David Clarke Becomes An Internet Joke...</td>\n",
       "      <td>On Friday, it was revealed that former Milwauk...</td>\n",
       "      <td>News</td>\n",
       "      <td>December 30, 2017</td>\n",
       "      <td>0</td>\n",
       "    </tr>\n",
       "    <tr>\n",
       "      <th>3</th>\n",
       "      <td>Trump Is So Obsessed He Even Has Obama’s Name...</td>\n",
       "      <td>On Christmas day, Donald Trump announced that ...</td>\n",
       "      <td>News</td>\n",
       "      <td>December 29, 2017</td>\n",
       "      <td>0</td>\n",
       "    </tr>\n",
       "    <tr>\n",
       "      <th>4</th>\n",
       "      <td>Pope Francis Just Called Out Donald Trump Dur...</td>\n",
       "      <td>Pope Francis used his annual Christmas Day mes...</td>\n",
       "      <td>News</td>\n",
       "      <td>December 25, 2017</td>\n",
       "      <td>0</td>\n",
       "    </tr>\n",
       "    <tr>\n",
       "      <th>...</th>\n",
       "      <td>...</td>\n",
       "      <td>...</td>\n",
       "      <td>...</td>\n",
       "      <td>...</td>\n",
       "      <td>...</td>\n",
       "    </tr>\n",
       "    <tr>\n",
       "      <th>23476</th>\n",
       "      <td>McPain: John McCain Furious That Iran Treated ...</td>\n",
       "      <td>21st Century Wire says As 21WIRE reported earl...</td>\n",
       "      <td>Middle-east</td>\n",
       "      <td>January 16, 2016</td>\n",
       "      <td>0</td>\n",
       "    </tr>\n",
       "    <tr>\n",
       "      <th>23477</th>\n",
       "      <td>JUSTICE? Yahoo Settles E-mail Privacy Class-ac...</td>\n",
       "      <td>21st Century Wire says It s a familiar theme. ...</td>\n",
       "      <td>Middle-east</td>\n",
       "      <td>January 16, 2016</td>\n",
       "      <td>0</td>\n",
       "    </tr>\n",
       "    <tr>\n",
       "      <th>23478</th>\n",
       "      <td>Sunnistan: US and Allied ‘Safe Zone’ Plan to T...</td>\n",
       "      <td>Patrick Henningsen  21st Century WireRemember ...</td>\n",
       "      <td>Middle-east</td>\n",
       "      <td>January 15, 2016</td>\n",
       "      <td>0</td>\n",
       "    </tr>\n",
       "    <tr>\n",
       "      <th>23479</th>\n",
       "      <td>How to Blow $700 Million: Al Jazeera America F...</td>\n",
       "      <td>21st Century Wire says Al Jazeera America will...</td>\n",
       "      <td>Middle-east</td>\n",
       "      <td>January 14, 2016</td>\n",
       "      <td>0</td>\n",
       "    </tr>\n",
       "    <tr>\n",
       "      <th>23480</th>\n",
       "      <td>10 U.S. Navy Sailors Held by Iranian Military ...</td>\n",
       "      <td>21st Century Wire says As 21WIRE predicted in ...</td>\n",
       "      <td>Middle-east</td>\n",
       "      <td>January 12, 2016</td>\n",
       "      <td>0</td>\n",
       "    </tr>\n",
       "  </tbody>\n",
       "</table>\n",
       "<p>23481 rows × 5 columns</p>\n",
       "</div>"
      ],
      "text/plain": [
       "                                                   title  \\\n",
       "0       Donald Trump Sends Out Embarrassing New Year’...   \n",
       "1       Drunk Bragging Trump Staffer Started Russian ...   \n",
       "2       Sheriff David Clarke Becomes An Internet Joke...   \n",
       "3       Trump Is So Obsessed He Even Has Obama’s Name...   \n",
       "4       Pope Francis Just Called Out Donald Trump Dur...   \n",
       "...                                                  ...   \n",
       "23476  McPain: John McCain Furious That Iran Treated ...   \n",
       "23477  JUSTICE? Yahoo Settles E-mail Privacy Class-ac...   \n",
       "23478  Sunnistan: US and Allied ‘Safe Zone’ Plan to T...   \n",
       "23479  How to Blow $700 Million: Al Jazeera America F...   \n",
       "23480  10 U.S. Navy Sailors Held by Iranian Military ...   \n",
       "\n",
       "                                                    text      subject  \\\n",
       "0      Donald Trump just couldn t wish all Americans ...         News   \n",
       "1      House Intelligence Committee Chairman Devin Nu...         News   \n",
       "2      On Friday, it was revealed that former Milwauk...         News   \n",
       "3      On Christmas day, Donald Trump announced that ...         News   \n",
       "4      Pope Francis used his annual Christmas Day mes...         News   \n",
       "...                                                  ...          ...   \n",
       "23476  21st Century Wire says As 21WIRE reported earl...  Middle-east   \n",
       "23477  21st Century Wire says It s a familiar theme. ...  Middle-east   \n",
       "23478  Patrick Henningsen  21st Century WireRemember ...  Middle-east   \n",
       "23479  21st Century Wire says Al Jazeera America will...  Middle-east   \n",
       "23480  21st Century Wire says As 21WIRE predicted in ...  Middle-east   \n",
       "\n",
       "                    date  news_type  \n",
       "0      December 31, 2017          0  \n",
       "1      December 31, 2017          0  \n",
       "2      December 30, 2017          0  \n",
       "3      December 29, 2017          0  \n",
       "4      December 25, 2017          0  \n",
       "...                  ...        ...  \n",
       "23476   January 16, 2016          0  \n",
       "23477   January 16, 2016          0  \n",
       "23478   January 15, 2016          0  \n",
       "23479   January 14, 2016          0  \n",
       "23480   January 12, 2016          0  \n",
       "\n",
       "[23481 rows x 5 columns]"
      ]
     },
     "execution_count": 3,
     "metadata": {},
     "output_type": "execute_result"
    }
   ],
   "source": [
    "dffake = pd.read_csv(r\"/kaggle/input/fake-and-real-news-dataset/Fake.csv\")\n",
    "dffake['news_type'] = 0\n",
    "dffake"
   ]
  },
  {
   "cell_type": "code",
   "execution_count": 4,
   "id": "5dc6aa36",
   "metadata": {
    "execution": {
     "iopub.execute_input": "2025-02-28T19:55:17.606612Z",
     "iopub.status.busy": "2025-02-28T19:55:17.605854Z",
     "iopub.status.idle": "2025-02-28T19:55:18.706240Z",
     "shell.execute_reply": "2025-02-28T19:55:18.705274Z"
    },
    "papermill": {
     "duration": 1.1079,
     "end_time": "2025-02-28T19:55:18.707949",
     "exception": false,
     "start_time": "2025-02-28T19:55:17.600049",
     "status": "completed"
    },
    "tags": []
   },
   "outputs": [
    {
     "data": {
      "text/html": [
       "<div>\n",
       "<style scoped>\n",
       "    .dataframe tbody tr th:only-of-type {\n",
       "        vertical-align: middle;\n",
       "    }\n",
       "\n",
       "    .dataframe tbody tr th {\n",
       "        vertical-align: top;\n",
       "    }\n",
       "\n",
       "    .dataframe thead th {\n",
       "        text-align: right;\n",
       "    }\n",
       "</style>\n",
       "<table border=\"1\" class=\"dataframe\">\n",
       "  <thead>\n",
       "    <tr style=\"text-align: right;\">\n",
       "      <th></th>\n",
       "      <th>title</th>\n",
       "      <th>text</th>\n",
       "      <th>subject</th>\n",
       "      <th>date</th>\n",
       "      <th>news_type</th>\n",
       "    </tr>\n",
       "  </thead>\n",
       "  <tbody>\n",
       "    <tr>\n",
       "      <th>0</th>\n",
       "      <td>As U.S. budget fight looms, Republicans flip t...</td>\n",
       "      <td>WASHINGTON (Reuters) - The head of a conservat...</td>\n",
       "      <td>politicsNews</td>\n",
       "      <td>December 31, 2017</td>\n",
       "      <td>1</td>\n",
       "    </tr>\n",
       "    <tr>\n",
       "      <th>1</th>\n",
       "      <td>U.S. military to accept transgender recruits o...</td>\n",
       "      <td>WASHINGTON (Reuters) - Transgender people will...</td>\n",
       "      <td>politicsNews</td>\n",
       "      <td>December 29, 2017</td>\n",
       "      <td>1</td>\n",
       "    </tr>\n",
       "    <tr>\n",
       "      <th>2</th>\n",
       "      <td>Senior U.S. Republican senator: 'Let Mr. Muell...</td>\n",
       "      <td>WASHINGTON (Reuters) - The special counsel inv...</td>\n",
       "      <td>politicsNews</td>\n",
       "      <td>December 31, 2017</td>\n",
       "      <td>1</td>\n",
       "    </tr>\n",
       "    <tr>\n",
       "      <th>3</th>\n",
       "      <td>FBI Russia probe helped by Australian diplomat...</td>\n",
       "      <td>WASHINGTON (Reuters) - Trump campaign adviser ...</td>\n",
       "      <td>politicsNews</td>\n",
       "      <td>December 30, 2017</td>\n",
       "      <td>1</td>\n",
       "    </tr>\n",
       "    <tr>\n",
       "      <th>4</th>\n",
       "      <td>Trump wants Postal Service to charge 'much mor...</td>\n",
       "      <td>SEATTLE/WASHINGTON (Reuters) - President Donal...</td>\n",
       "      <td>politicsNews</td>\n",
       "      <td>December 29, 2017</td>\n",
       "      <td>1</td>\n",
       "    </tr>\n",
       "    <tr>\n",
       "      <th>...</th>\n",
       "      <td>...</td>\n",
       "      <td>...</td>\n",
       "      <td>...</td>\n",
       "      <td>...</td>\n",
       "      <td>...</td>\n",
       "    </tr>\n",
       "    <tr>\n",
       "      <th>21412</th>\n",
       "      <td>'Fully committed' NATO backs new U.S. approach...</td>\n",
       "      <td>BRUSSELS (Reuters) - NATO allies on Tuesday we...</td>\n",
       "      <td>worldnews</td>\n",
       "      <td>August 22, 2017</td>\n",
       "      <td>1</td>\n",
       "    </tr>\n",
       "    <tr>\n",
       "      <th>21413</th>\n",
       "      <td>LexisNexis withdrew two products from Chinese ...</td>\n",
       "      <td>LONDON (Reuters) - LexisNexis, a provider of l...</td>\n",
       "      <td>worldnews</td>\n",
       "      <td>August 22, 2017</td>\n",
       "      <td>1</td>\n",
       "    </tr>\n",
       "    <tr>\n",
       "      <th>21414</th>\n",
       "      <td>Minsk cultural hub becomes haven from authorities</td>\n",
       "      <td>MINSK (Reuters) - In the shadow of disused Sov...</td>\n",
       "      <td>worldnews</td>\n",
       "      <td>August 22, 2017</td>\n",
       "      <td>1</td>\n",
       "    </tr>\n",
       "    <tr>\n",
       "      <th>21415</th>\n",
       "      <td>Vatican upbeat on possibility of Pope Francis ...</td>\n",
       "      <td>MOSCOW (Reuters) - Vatican Secretary of State ...</td>\n",
       "      <td>worldnews</td>\n",
       "      <td>August 22, 2017</td>\n",
       "      <td>1</td>\n",
       "    </tr>\n",
       "    <tr>\n",
       "      <th>21416</th>\n",
       "      <td>Indonesia to buy $1.14 billion worth of Russia...</td>\n",
       "      <td>JAKARTA (Reuters) - Indonesia will buy 11 Sukh...</td>\n",
       "      <td>worldnews</td>\n",
       "      <td>August 22, 2017</td>\n",
       "      <td>1</td>\n",
       "    </tr>\n",
       "  </tbody>\n",
       "</table>\n",
       "<p>21417 rows × 5 columns</p>\n",
       "</div>"
      ],
      "text/plain": [
       "                                                   title  \\\n",
       "0      As U.S. budget fight looms, Republicans flip t...   \n",
       "1      U.S. military to accept transgender recruits o...   \n",
       "2      Senior U.S. Republican senator: 'Let Mr. Muell...   \n",
       "3      FBI Russia probe helped by Australian diplomat...   \n",
       "4      Trump wants Postal Service to charge 'much mor...   \n",
       "...                                                  ...   \n",
       "21412  'Fully committed' NATO backs new U.S. approach...   \n",
       "21413  LexisNexis withdrew two products from Chinese ...   \n",
       "21414  Minsk cultural hub becomes haven from authorities   \n",
       "21415  Vatican upbeat on possibility of Pope Francis ...   \n",
       "21416  Indonesia to buy $1.14 billion worth of Russia...   \n",
       "\n",
       "                                                    text       subject  \\\n",
       "0      WASHINGTON (Reuters) - The head of a conservat...  politicsNews   \n",
       "1      WASHINGTON (Reuters) - Transgender people will...  politicsNews   \n",
       "2      WASHINGTON (Reuters) - The special counsel inv...  politicsNews   \n",
       "3      WASHINGTON (Reuters) - Trump campaign adviser ...  politicsNews   \n",
       "4      SEATTLE/WASHINGTON (Reuters) - President Donal...  politicsNews   \n",
       "...                                                  ...           ...   \n",
       "21412  BRUSSELS (Reuters) - NATO allies on Tuesday we...     worldnews   \n",
       "21413  LONDON (Reuters) - LexisNexis, a provider of l...     worldnews   \n",
       "21414  MINSK (Reuters) - In the shadow of disused Sov...     worldnews   \n",
       "21415  MOSCOW (Reuters) - Vatican Secretary of State ...     worldnews   \n",
       "21416  JAKARTA (Reuters) - Indonesia will buy 11 Sukh...     worldnews   \n",
       "\n",
       "                     date  news_type  \n",
       "0      December 31, 2017           1  \n",
       "1      December 29, 2017           1  \n",
       "2      December 31, 2017           1  \n",
       "3      December 30, 2017           1  \n",
       "4      December 29, 2017           1  \n",
       "...                   ...        ...  \n",
       "21412    August 22, 2017           1  \n",
       "21413    August 22, 2017           1  \n",
       "21414    August 22, 2017           1  \n",
       "21415    August 22, 2017           1  \n",
       "21416    August 22, 2017           1  \n",
       "\n",
       "[21417 rows x 5 columns]"
      ]
     },
     "execution_count": 4,
     "metadata": {},
     "output_type": "execute_result"
    }
   ],
   "source": [
    "dftrue = pd.read_csv(r\"/kaggle/input/fake-and-real-news-dataset/True.csv\")\n",
    "dftrue['news_type'] = 1\n",
    "dftrue"
   ]
  },
  {
   "cell_type": "code",
   "execution_count": 5,
   "id": "500d8809",
   "metadata": {
    "execution": {
     "iopub.execute_input": "2025-02-28T19:55:18.720126Z",
     "iopub.status.busy": "2025-02-28T19:55:18.719829Z",
     "iopub.status.idle": "2025-02-28T19:55:18.743565Z",
     "shell.execute_reply": "2025-02-28T19:55:18.742738Z"
    },
    "papermill": {
     "duration": 0.031536,
     "end_time": "2025-02-28T19:55:18.745142",
     "exception": false,
     "start_time": "2025-02-28T19:55:18.713606",
     "status": "completed"
    },
    "tags": []
   },
   "outputs": [
    {
     "data": {
      "text/html": [
       "<div>\n",
       "<style scoped>\n",
       "    .dataframe tbody tr th:only-of-type {\n",
       "        vertical-align: middle;\n",
       "    }\n",
       "\n",
       "    .dataframe tbody tr th {\n",
       "        vertical-align: top;\n",
       "    }\n",
       "\n",
       "    .dataframe thead th {\n",
       "        text-align: right;\n",
       "    }\n",
       "</style>\n",
       "<table border=\"1\" class=\"dataframe\">\n",
       "  <thead>\n",
       "    <tr style=\"text-align: right;\">\n",
       "      <th></th>\n",
       "      <th>title</th>\n",
       "      <th>text</th>\n",
       "      <th>subject</th>\n",
       "      <th>date</th>\n",
       "      <th>news_type</th>\n",
       "    </tr>\n",
       "  </thead>\n",
       "  <tbody>\n",
       "    <tr>\n",
       "      <th>0</th>\n",
       "      <td>Ben Stein Calls Out 9th Circuit Court: Committ...</td>\n",
       "      <td>21st Century Wire says Ben Stein, reputable pr...</td>\n",
       "      <td>US_News</td>\n",
       "      <td>February 13, 2017</td>\n",
       "      <td>0</td>\n",
       "    </tr>\n",
       "    <tr>\n",
       "      <th>1</th>\n",
       "      <td>Trump drops Steve Bannon from National Securit...</td>\n",
       "      <td>WASHINGTON (Reuters) - U.S. President Donald T...</td>\n",
       "      <td>politicsNews</td>\n",
       "      <td>April 5, 2017</td>\n",
       "      <td>1</td>\n",
       "    </tr>\n",
       "    <tr>\n",
       "      <th>2</th>\n",
       "      <td>Puerto Rico expects U.S. to lift Jones Act shi...</td>\n",
       "      <td>(Reuters) - Puerto Rico Governor Ricardo Rosse...</td>\n",
       "      <td>politicsNews</td>\n",
       "      <td>September 27, 2017</td>\n",
       "      <td>1</td>\n",
       "    </tr>\n",
       "    <tr>\n",
       "      <th>3</th>\n",
       "      <td>OOPS: Trump Just Accidentally Confirmed He Le...</td>\n",
       "      <td>On Monday, Donald Trump once again embarrassed...</td>\n",
       "      <td>News</td>\n",
       "      <td>May 22, 2017</td>\n",
       "      <td>0</td>\n",
       "    </tr>\n",
       "    <tr>\n",
       "      <th>4</th>\n",
       "      <td>Donald Trump heads for Scotland to reopen a go...</td>\n",
       "      <td>GLASGOW, Scotland (Reuters) - Most U.S. presid...</td>\n",
       "      <td>politicsNews</td>\n",
       "      <td>June 24, 2016</td>\n",
       "      <td>1</td>\n",
       "    </tr>\n",
       "    <tr>\n",
       "      <th>...</th>\n",
       "      <td>...</td>\n",
       "      <td>...</td>\n",
       "      <td>...</td>\n",
       "      <td>...</td>\n",
       "      <td>...</td>\n",
       "    </tr>\n",
       "    <tr>\n",
       "      <th>44893</th>\n",
       "      <td>UNREAL! CBS’S TED KOPPEL Tells Sean Hannity He...</td>\n",
       "      <td></td>\n",
       "      <td>politics</td>\n",
       "      <td>Mar 27, 2017</td>\n",
       "      <td>0</td>\n",
       "    </tr>\n",
       "    <tr>\n",
       "      <th>44894</th>\n",
       "      <td>PM May seeks to ease Japan's Brexit fears duri...</td>\n",
       "      <td>LONDON/TOKYO (Reuters) - British Prime Ministe...</td>\n",
       "      <td>worldnews</td>\n",
       "      <td>August 29, 2017</td>\n",
       "      <td>1</td>\n",
       "    </tr>\n",
       "    <tr>\n",
       "      <th>44895</th>\n",
       "      <td>Merkel: Difficult German coalition talks can r...</td>\n",
       "      <td>BERLIN (Reuters) - Chancellor Angela Merkel sa...</td>\n",
       "      <td>worldnews</td>\n",
       "      <td>November 16, 2017</td>\n",
       "      <td>1</td>\n",
       "    </tr>\n",
       "    <tr>\n",
       "      <th>44896</th>\n",
       "      <td>Trump Stole An Idea From North Korean Propaga...</td>\n",
       "      <td>Jesus f*cking Christ our President* is a moron...</td>\n",
       "      <td>News</td>\n",
       "      <td>July 14, 2017</td>\n",
       "      <td>0</td>\n",
       "    </tr>\n",
       "    <tr>\n",
       "      <th>44897</th>\n",
       "      <td>BREAKING: HILLARY CLINTON’S STATE DEPARTMENT G...</td>\n",
       "      <td>IF SHE S NOT TOAST NOW THEN WE RE IN BIGGER TR...</td>\n",
       "      <td>politics</td>\n",
       "      <td>Apr 23, 2015</td>\n",
       "      <td>0</td>\n",
       "    </tr>\n",
       "  </tbody>\n",
       "</table>\n",
       "<p>44898 rows × 5 columns</p>\n",
       "</div>"
      ],
      "text/plain": [
       "                                                   title  \\\n",
       "0      Ben Stein Calls Out 9th Circuit Court: Committ...   \n",
       "1      Trump drops Steve Bannon from National Securit...   \n",
       "2      Puerto Rico expects U.S. to lift Jones Act shi...   \n",
       "3       OOPS: Trump Just Accidentally Confirmed He Le...   \n",
       "4      Donald Trump heads for Scotland to reopen a go...   \n",
       "...                                                  ...   \n",
       "44893  UNREAL! CBS’S TED KOPPEL Tells Sean Hannity He...   \n",
       "44894  PM May seeks to ease Japan's Brexit fears duri...   \n",
       "44895  Merkel: Difficult German coalition talks can r...   \n",
       "44896   Trump Stole An Idea From North Korean Propaga...   \n",
       "44897  BREAKING: HILLARY CLINTON’S STATE DEPARTMENT G...   \n",
       "\n",
       "                                                    text       subject  \\\n",
       "0      21st Century Wire says Ben Stein, reputable pr...       US_News   \n",
       "1      WASHINGTON (Reuters) - U.S. President Donald T...  politicsNews   \n",
       "2      (Reuters) - Puerto Rico Governor Ricardo Rosse...  politicsNews   \n",
       "3      On Monday, Donald Trump once again embarrassed...          News   \n",
       "4      GLASGOW, Scotland (Reuters) - Most U.S. presid...  politicsNews   \n",
       "...                                                  ...           ...   \n",
       "44893                                                         politics   \n",
       "44894  LONDON/TOKYO (Reuters) - British Prime Ministe...     worldnews   \n",
       "44895  BERLIN (Reuters) - Chancellor Angela Merkel sa...     worldnews   \n",
       "44896  Jesus f*cking Christ our President* is a moron...          News   \n",
       "44897  IF SHE S NOT TOAST NOW THEN WE RE IN BIGGER TR...      politics   \n",
       "\n",
       "                      date  news_type  \n",
       "0        February 13, 2017          0  \n",
       "1           April 5, 2017           1  \n",
       "2      September 27, 2017           1  \n",
       "3             May 22, 2017          0  \n",
       "4           June 24, 2016           1  \n",
       "...                    ...        ...  \n",
       "44893         Mar 27, 2017          0  \n",
       "44894     August 29, 2017           1  \n",
       "44895   November 16, 2017           1  \n",
       "44896        July 14, 2017          0  \n",
       "44897         Apr 23, 2015          0  \n",
       "\n",
       "[44898 rows x 5 columns]"
      ]
     },
     "execution_count": 5,
     "metadata": {},
     "output_type": "execute_result"
    }
   ],
   "source": [
    "df =  pd.concat([dffake, dftrue], ignore_index = True)\n",
    "df = df.sample(frac=1, random_state=42).reset_index(drop=True)\n",
    "df"
   ]
  },
  {
   "cell_type": "code",
   "execution_count": 6,
   "id": "935a08c1",
   "metadata": {
    "execution": {
     "iopub.execute_input": "2025-02-28T19:55:18.757168Z",
     "iopub.status.busy": "2025-02-28T19:55:18.756897Z",
     "iopub.status.idle": "2025-02-28T19:55:18.787429Z",
     "shell.execute_reply": "2025-02-28T19:55:18.786446Z"
    },
    "papermill": {
     "duration": 0.038382,
     "end_time": "2025-02-28T19:55:18.789149",
     "exception": false,
     "start_time": "2025-02-28T19:55:18.750767",
     "status": "completed"
    },
    "tags": []
   },
   "outputs": [
    {
     "name": "stdout",
     "output_type": "stream",
     "text": [
      "<class 'pandas.core.frame.DataFrame'>\n",
      "RangeIndex: 44898 entries, 0 to 44897\n",
      "Data columns (total 5 columns):\n",
      " #   Column     Non-Null Count  Dtype \n",
      "---  ------     --------------  ----- \n",
      " 0   title      44898 non-null  object\n",
      " 1   text       44898 non-null  object\n",
      " 2   subject    44898 non-null  object\n",
      " 3   date       44898 non-null  object\n",
      " 4   news_type  44898 non-null  int64 \n",
      "dtypes: int64(1), object(4)\n",
      "memory usage: 1.7+ MB\n"
     ]
    }
   ],
   "source": [
    "df.info()"
   ]
  },
  {
   "cell_type": "code",
   "execution_count": 7,
   "id": "c0ccd215",
   "metadata": {
    "execution": {
     "iopub.execute_input": "2025-02-28T19:55:18.801802Z",
     "iopub.status.busy": "2025-02-28T19:55:18.801076Z",
     "iopub.status.idle": "2025-02-28T19:55:18.820444Z",
     "shell.execute_reply": "2025-02-28T19:55:18.819476Z"
    },
    "papermill": {
     "duration": 0.02747,
     "end_time": "2025-02-28T19:55:18.822232",
     "exception": false,
     "start_time": "2025-02-28T19:55:18.794762",
     "status": "completed"
    },
    "tags": []
   },
   "outputs": [
    {
     "data": {
      "text/plain": [
       "title        0\n",
       "text         0\n",
       "subject      0\n",
       "date         0\n",
       "news_type    0\n",
       "dtype: int64"
      ]
     },
     "execution_count": 7,
     "metadata": {},
     "output_type": "execute_result"
    }
   ],
   "source": [
    "df.isnull().sum()"
   ]
  },
  {
   "cell_type": "code",
   "execution_count": 8,
   "id": "8e74a8b9",
   "metadata": {
    "execution": {
     "iopub.execute_input": "2025-02-28T19:55:18.834343Z",
     "iopub.status.busy": "2025-02-28T19:55:18.834096Z",
     "iopub.status.idle": "2025-02-28T19:55:19.143444Z",
     "shell.execute_reply": "2025-02-28T19:55:19.142444Z"
    },
    "papermill": {
     "duration": 0.31751,
     "end_time": "2025-02-28T19:55:19.145377",
     "exception": false,
     "start_time": "2025-02-28T19:55:18.827867",
     "status": "completed"
    },
    "tags": []
   },
   "outputs": [
    {
     "data": {
      "text/plain": [
       "209"
      ]
     },
     "execution_count": 8,
     "metadata": {},
     "output_type": "execute_result"
    }
   ],
   "source": [
    "df.duplicated().sum()\n"
   ]
  },
  {
   "cell_type": "code",
   "execution_count": 9,
   "id": "4e5b74ce",
   "metadata": {
    "execution": {
     "iopub.execute_input": "2025-02-28T19:55:19.158751Z",
     "iopub.status.busy": "2025-02-28T19:55:19.158071Z",
     "iopub.status.idle": "2025-02-28T19:55:19.654193Z",
     "shell.execute_reply": "2025-02-28T19:55:19.652798Z"
    },
    "papermill": {
     "duration": 0.504763,
     "end_time": "2025-02-28T19:55:19.656316",
     "exception": false,
     "start_time": "2025-02-28T19:55:19.151553",
     "status": "completed"
    },
    "tags": []
   },
   "outputs": [
    {
     "data": {
      "text/plain": [
       "0"
      ]
     },
     "execution_count": 9,
     "metadata": {},
     "output_type": "execute_result"
    }
   ],
   "source": [
    "df.drop_duplicates(inplace=True)\n",
    "df.duplicated().sum()\n"
   ]
  },
  {
   "cell_type": "code",
   "execution_count": 10,
   "id": "8aa845cf",
   "metadata": {
    "execution": {
     "iopub.execute_input": "2025-02-28T19:55:19.679508Z",
     "iopub.status.busy": "2025-02-28T19:55:19.678702Z",
     "iopub.status.idle": "2025-02-28T19:55:19.689011Z",
     "shell.execute_reply": "2025-02-28T19:55:19.687804Z"
    },
    "papermill": {
     "duration": 0.024595,
     "end_time": "2025-02-28T19:55:19.691470",
     "exception": false,
     "start_time": "2025-02-28T19:55:19.666875",
     "status": "completed"
    },
    "tags": []
   },
   "outputs": [
    {
     "data": {
      "text/plain": [
       "news_type\n",
       "0    23478\n",
       "1    21211\n",
       "Name: count, dtype: int64"
      ]
     },
     "execution_count": 10,
     "metadata": {},
     "output_type": "execute_result"
    }
   ],
   "source": [
    "df['news_type'].value_counts()\n"
   ]
  },
  {
   "cell_type": "code",
   "execution_count": 11,
   "id": "ef8bcd10",
   "metadata": {
    "execution": {
     "iopub.execute_input": "2025-02-28T19:55:19.708232Z",
     "iopub.status.busy": "2025-02-28T19:55:19.707656Z",
     "iopub.status.idle": "2025-02-28T19:55:19.920586Z",
     "shell.execute_reply": "2025-02-28T19:55:19.919750Z"
    },
    "papermill": {
     "duration": 0.221941,
     "end_time": "2025-02-28T19:55:19.922257",
     "exception": false,
     "start_time": "2025-02-28T19:55:19.700316",
     "status": "completed"
    },
    "tags": []
   },
   "outputs": [
    {
     "data": {
      "image/png": "[encoded data removed]",
      "text/plain": [
       "<Figure size 640x480 with 1 Axes>"
      ]
     },
     "metadata": {},
     "output_type": "display_data"
    }
   ],
   "source": [
    "# Create the count plot\n",
    "sns.countplot(x='news_type', data=df)\n",
    "\n",
    "# Add labels and a title\n",
    "plt.xlabel('News Type')\n",
    "plt.ylabel('Count')\n",
    "plt.title('Count of News Types')\n",
    "plt.show()\n"
   ]
  },
  {
   "cell_type": "code",
   "execution_count": 12,
   "id": "8aa66f30",
   "metadata": {
    "execution": {
     "iopub.execute_input": "2025-02-28T19:55:19.937169Z",
     "iopub.status.busy": "2025-02-28T19:55:19.936919Z",
     "iopub.status.idle": "2025-02-28T19:55:19.942662Z",
     "shell.execute_reply": "2025-02-28T19:55:19.941963Z"
    },
    "papermill": {
     "duration": 0.014571,
     "end_time": "2025-02-28T19:55:19.944253",
     "exception": false,
     "start_time": "2025-02-28T19:55:19.929682",
     "status": "completed"
    },
    "tags": []
   },
   "outputs": [
    {
     "data": {
      "text/plain": [
       "'21st Century Wire says Ben Stein, reputable professor from, Pepperdine University (also of some Hollywood fame appearing in TV shows and films such as Ferris Bueller s Day Off) made some provocative statements on Judge Jeanine Pirro s show recently. While discussing the halt that was imposed on President Trump s Executive Order on travel. Stein referred to the judgement by the 9th Circuit Court in Washington state as a  Coup d tat against the executive branch and against the constitution.  Stein went on to call the Judges in Seattle  political puppets  and the judiciary  political pawns. Watch the interview below for the complete statements and note the stark contrast to the rhetoric of the leftist media and pundits who neglect to note that no court has ever blocked any Presidential orders in immigration in the past or discuss the legal efficacy of the halt or the actual text of the Executive Order.READ MORE TRUMP NEWS AT: 21st Century Wire Trump FilesSUPPORT OUR WORK BY SUBSCRIBING & BECOMING A MEMBER @21WIRE.TV'"
      ]
     },
     "execution_count": 12,
     "metadata": {},
     "output_type": "execute_result"
    }
   ],
   "source": [
    "df['text'][0]"
   ]
  },
  {
   "cell_type": "code",
   "execution_count": 13,
   "id": "afaa0e47",
   "metadata": {
    "execution": {
     "iopub.execute_input": "2025-02-28T19:55:19.958165Z",
     "iopub.status.busy": "2025-02-28T19:55:19.957804Z",
     "iopub.status.idle": "2025-02-28T19:55:20.439892Z",
     "shell.execute_reply": "2025-02-28T19:55:20.439031Z"
    },
    "papermill": {
     "duration": 0.491094,
     "end_time": "2025-02-28T19:55:20.441775",
     "exception": false,
     "start_time": "2025-02-28T19:55:19.950681",
     "status": "completed"
    },
    "tags": []
   },
   "outputs": [
    {
     "data": {
      "text/html": [
       "<div>\n",
       "<style scoped>\n",
       "    .dataframe tbody tr th:only-of-type {\n",
       "        vertical-align: middle;\n",
       "    }\n",
       "\n",
       "    .dataframe tbody tr th {\n",
       "        vertical-align: top;\n",
       "    }\n",
       "\n",
       "    .dataframe thead th {\n",
       "        text-align: right;\n",
       "    }\n",
       "</style>\n",
       "<table border=\"1\" class=\"dataframe\">\n",
       "  <thead>\n",
       "    <tr style=\"text-align: right;\">\n",
       "      <th></th>\n",
       "      <th>title</th>\n",
       "      <th>text</th>\n",
       "      <th>subject</th>\n",
       "      <th>date</th>\n",
       "      <th>news_type</th>\n",
       "      <th>clean_text</th>\n",
       "    </tr>\n",
       "  </thead>\n",
       "  <tbody>\n",
       "    <tr>\n",
       "      <th>27353</th>\n",
       "      <td>WATCH: Why NFL Players Taking A Knee Is Total ...</td>\n",
       "      <td>Outspoken conservative Paul Joseph Watson is, ...</td>\n",
       "      <td>politics</td>\n",
       "      <td>Sep 25, 2017</td>\n",
       "      <td>0</td>\n",
       "      <td>outspoken conservative paul joseph watson is, ...</td>\n",
       "    </tr>\n",
       "    <tr>\n",
       "      <th>31797</th>\n",
       "      <td>U.S. Treasury dashes hopes for near-term World...</td>\n",
       "      <td>WASHINGTON (Reuters) - A U.S. Treasury officia...</td>\n",
       "      <td>politicsNews</td>\n",
       "      <td>October 11, 2017</td>\n",
       "      <td>1</td>\n",
       "      <td>washington (reuters) - a u.s. treasury officia...</td>\n",
       "    </tr>\n",
       "    <tr>\n",
       "      <th>8613</th>\n",
       "      <td>Houston port continues salvage efforts to reco...</td>\n",
       "      <td>HOUSTON (Reuters) - Salvage efforts continued ...</td>\n",
       "      <td>politicsNews</td>\n",
       "      <td>September 4, 2017</td>\n",
       "      <td>1</td>\n",
       "      <td>houston (reuters) - salvage efforts continued ...</td>\n",
       "    </tr>\n",
       "    <tr>\n",
       "      <th>12850</th>\n",
       "      <td>U.S. to send over 3,000 troops to Afghanistan:...</td>\n",
       "      <td>WASHINGTON (Reuters) - U.S. Defense Secretary ...</td>\n",
       "      <td>worldnews</td>\n",
       "      <td>September 18, 2017</td>\n",
       "      <td>1</td>\n",
       "      <td>washington (reuters) - u.s. defense secretary ...</td>\n",
       "    </tr>\n",
       "    <tr>\n",
       "      <th>3702</th>\n",
       "      <td>BREAKING: D.C. Driver Plows Into Capitol Polic...</td>\n",
       "      <td>It happened around 9:30 a.m. at the 100 block ...</td>\n",
       "      <td>Government News</td>\n",
       "      <td>Mar 29, 2017</td>\n",
       "      <td>0</td>\n",
       "      <td>it happened around 9:30 a.m. at the 100 block ...</td>\n",
       "    </tr>\n",
       "  </tbody>\n",
       "</table>\n",
       "</div>"
      ],
      "text/plain": [
       "                                                   title  \\\n",
       "27353  WATCH: Why NFL Players Taking A Knee Is Total ...   \n",
       "31797  U.S. Treasury dashes hopes for near-term World...   \n",
       "8613   Houston port continues salvage efforts to reco...   \n",
       "12850  U.S. to send over 3,000 troops to Afghanistan:...   \n",
       "3702   BREAKING: D.C. Driver Plows Into Capitol Polic...   \n",
       "\n",
       "                                                    text          subject  \\\n",
       "27353  Outspoken conservative Paul Joseph Watson is, ...         politics   \n",
       "31797  WASHINGTON (Reuters) - A U.S. Treasury officia...     politicsNews   \n",
       "8613   HOUSTON (Reuters) - Salvage efforts continued ...     politicsNews   \n",
       "12850  WASHINGTON (Reuters) - U.S. Defense Secretary ...        worldnews   \n",
       "3702   It happened around 9:30 a.m. at the 100 block ...  Government News   \n",
       "\n",
       "                      date  news_type  \\\n",
       "27353         Sep 25, 2017          0   \n",
       "31797    October 11, 2017           1   \n",
       "8613    September 4, 2017           1   \n",
       "12850  September 18, 2017           1   \n",
       "3702          Mar 29, 2017          0   \n",
       "\n",
       "                                              clean_text  \n",
       "27353  outspoken conservative paul joseph watson is, ...  \n",
       "31797  washington (reuters) - a u.s. treasury officia...  \n",
       "8613   houston (reuters) - salvage efforts continued ...  \n",
       "12850  washington (reuters) - u.s. defense secretary ...  \n",
       "3702   it happened around 9:30 a.m. at the 100 block ...  "
      ]
     },
     "execution_count": 13,
     "metadata": {},
     "output_type": "execute_result"
    }
   ],
   "source": [
    "df['clean_text'] = df['text'].str.lower()\n",
    "df.sample(frac=1).head()"
   ]
  },
  {
   "cell_type": "code",
   "execution_count": 14,
   "id": "2453b776",
   "metadata": {
    "execution": {
     "iopub.execute_input": "2025-02-28T19:55:20.456500Z",
     "iopub.status.busy": "2025-02-28T19:55:20.456210Z",
     "iopub.status.idle": "2025-02-28T19:55:23.081701Z",
     "shell.execute_reply": "2025-02-28T19:55:23.080778Z"
    },
    "papermill": {
     "duration": 2.634913,
     "end_time": "2025-02-28T19:55:23.083574",
     "exception": false,
     "start_time": "2025-02-28T19:55:20.448661",
     "status": "completed"
    },
    "tags": []
   },
   "outputs": [
    {
     "data": {
      "text/html": [
       "<div>\n",
       "<style scoped>\n",
       "    .dataframe tbody tr th:only-of-type {\n",
       "        vertical-align: middle;\n",
       "    }\n",
       "\n",
       "    .dataframe tbody tr th {\n",
       "        vertical-align: top;\n",
       "    }\n",
       "\n",
       "    .dataframe thead th {\n",
       "        text-align: right;\n",
       "    }\n",
       "</style>\n",
       "<table border=\"1\" class=\"dataframe\">\n",
       "  <thead>\n",
       "    <tr style=\"text-align: right;\">\n",
       "      <th></th>\n",
       "      <th>title</th>\n",
       "      <th>text</th>\n",
       "      <th>subject</th>\n",
       "      <th>date</th>\n",
       "      <th>news_type</th>\n",
       "      <th>clean_text</th>\n",
       "    </tr>\n",
       "  </thead>\n",
       "  <tbody>\n",
       "    <tr>\n",
       "      <th>0</th>\n",
       "      <td>Ben Stein Calls Out 9th Circuit Court: Committ...</td>\n",
       "      <td>21st Century Wire says Ben Stein, reputable pr...</td>\n",
       "      <td>US_News</td>\n",
       "      <td>February 13, 2017</td>\n",
       "      <td>0</td>\n",
       "      <td>21st century wire says ben stein reputable pro...</td>\n",
       "    </tr>\n",
       "    <tr>\n",
       "      <th>1</th>\n",
       "      <td>Trump drops Steve Bannon from National Securit...</td>\n",
       "      <td>WASHINGTON (Reuters) - U.S. President Donald T...</td>\n",
       "      <td>politicsNews</td>\n",
       "      <td>April 5, 2017</td>\n",
       "      <td>1</td>\n",
       "      <td>washington reuters  us president donald trump ...</td>\n",
       "    </tr>\n",
       "    <tr>\n",
       "      <th>2</th>\n",
       "      <td>Puerto Rico expects U.S. to lift Jones Act shi...</td>\n",
       "      <td>(Reuters) - Puerto Rico Governor Ricardo Rosse...</td>\n",
       "      <td>politicsNews</td>\n",
       "      <td>September 27, 2017</td>\n",
       "      <td>1</td>\n",
       "      <td>reuters  puerto rico governor ricardo rossello...</td>\n",
       "    </tr>\n",
       "    <tr>\n",
       "      <th>3</th>\n",
       "      <td>OOPS: Trump Just Accidentally Confirmed He Le...</td>\n",
       "      <td>On Monday, Donald Trump once again embarrassed...</td>\n",
       "      <td>News</td>\n",
       "      <td>May 22, 2017</td>\n",
       "      <td>0</td>\n",
       "      <td>on monday donald trump once again embarrassed ...</td>\n",
       "    </tr>\n",
       "    <tr>\n",
       "      <th>4</th>\n",
       "      <td>Donald Trump heads for Scotland to reopen a go...</td>\n",
       "      <td>GLASGOW, Scotland (Reuters) - Most U.S. presid...</td>\n",
       "      <td>politicsNews</td>\n",
       "      <td>June 24, 2016</td>\n",
       "      <td>1</td>\n",
       "      <td>glasgow scotland reuters  most us presidential...</td>\n",
       "    </tr>\n",
       "  </tbody>\n",
       "</table>\n",
       "</div>"
      ],
      "text/plain": [
       "                                               title  \\\n",
       "0  Ben Stein Calls Out 9th Circuit Court: Committ...   \n",
       "1  Trump drops Steve Bannon from National Securit...   \n",
       "2  Puerto Rico expects U.S. to lift Jones Act shi...   \n",
       "3   OOPS: Trump Just Accidentally Confirmed He Le...   \n",
       "4  Donald Trump heads for Scotland to reopen a go...   \n",
       "\n",
       "                                                text       subject  \\\n",
       "0  21st Century Wire says Ben Stein, reputable pr...       US_News   \n",
       "1  WASHINGTON (Reuters) - U.S. President Donald T...  politicsNews   \n",
       "2  (Reuters) - Puerto Rico Governor Ricardo Rosse...  politicsNews   \n",
       "3  On Monday, Donald Trump once again embarrassed...          News   \n",
       "4  GLASGOW, Scotland (Reuters) - Most U.S. presid...  politicsNews   \n",
       "\n",
       "                  date  news_type  \\\n",
       "0    February 13, 2017          0   \n",
       "1       April 5, 2017           1   \n",
       "2  September 27, 2017           1   \n",
       "3         May 22, 2017          0   \n",
       "4       June 24, 2016           1   \n",
       "\n",
       "                                          clean_text  \n",
       "0  21st century wire says ben stein reputable pro...  \n",
       "1  washington reuters  us president donald trump ...  \n",
       "2  reuters  puerto rico governor ricardo rossello...  \n",
       "3  on monday donald trump once again embarrassed ...  \n",
       "4  glasgow scotland reuters  most us presidential...  "
      ]
     },
     "execution_count": 14,
     "metadata": {},
     "output_type": "execute_result"
    }
   ],
   "source": [
    "def remove_punctuation(text):\n",
    "    punc = string.punctuation\n",
    "    return text.translate(str.maketrans('','',punc))\n",
    "\n",
    "\n",
    "df['clean_text'] = df['clean_text'].apply(lambda x:remove_punctuation(x))\n",
    "df.head()"
   ]
  },
  {
   "cell_type": "code",
   "execution_count": 15,
   "id": "12ba3cae",
   "metadata": {
    "execution": {
     "iopub.execute_input": "2025-02-28T19:55:23.099138Z",
     "iopub.status.busy": "2025-02-28T19:55:23.098875Z",
     "iopub.status.idle": "2025-02-28T19:55:26.152453Z",
     "shell.execute_reply": "2025-02-28T19:55:26.151564Z"
    },
    "papermill": {
     "duration": 3.063368,
     "end_time": "2025-02-28T19:55:26.154208",
     "exception": false,
     "start_time": "2025-02-28T19:55:23.090840",
     "status": "completed"
    },
    "tags": []
   },
   "outputs": [
    {
     "data": {
      "text/html": [
       "<div>\n",
       "<style scoped>\n",
       "    .dataframe tbody tr th:only-of-type {\n",
       "        vertical-align: middle;\n",
       "    }\n",
       "\n",
       "    .dataframe tbody tr th {\n",
       "        vertical-align: top;\n",
       "    }\n",
       "\n",
       "    .dataframe thead th {\n",
       "        text-align: right;\n",
       "    }\n",
       "</style>\n",
       "<table border=\"1\" class=\"dataframe\">\n",
       "  <thead>\n",
       "    <tr style=\"text-align: right;\">\n",
       "      <th></th>\n",
       "      <th>title</th>\n",
       "      <th>text</th>\n",
       "      <th>subject</th>\n",
       "      <th>date</th>\n",
       "      <th>news_type</th>\n",
       "      <th>clean_text</th>\n",
       "    </tr>\n",
       "  </thead>\n",
       "  <tbody>\n",
       "    <tr>\n",
       "      <th>0</th>\n",
       "      <td>Ben Stein Calls Out 9th Circuit Court: Committ...</td>\n",
       "      <td>21st Century Wire says Ben Stein, reputable pr...</td>\n",
       "      <td>US_News</td>\n",
       "      <td>February 13, 2017</td>\n",
       "      <td>0</td>\n",
       "      <td>jeanine show ferris actual provocative rhetori...</td>\n",
       "    </tr>\n",
       "    <tr>\n",
       "      <th>1</th>\n",
       "      <td>Trump drops Steve Bannon from National Securit...</td>\n",
       "      <td>WASHINGTON (Reuters) - U.S. President Donald T...</td>\n",
       "      <td>politicsNews</td>\n",
       "      <td>April 5, 2017</td>\n",
       "      <td>1</td>\n",
       "      <td>anonymity jinping ezra includes november told ...</td>\n",
       "    </tr>\n",
       "    <tr>\n",
       "      <th>2</th>\n",
       "      <td>Puerto Rico expects U.S. to lift Jones Act shi...</td>\n",
       "      <td>(Reuters) - Puerto Rico Governor Ricardo Rosse...</td>\n",
       "      <td>politicsNews</td>\n",
       "      <td>September 27, 2017</td>\n",
       "      <td>1</td>\n",
       "      <td>fuel” version show homeland grant food asked p...</td>\n",
       "    </tr>\n",
       "    <tr>\n",
       "      <th>3</th>\n",
       "      <td>OOPS: Trump Just Accidentally Confirmed He Le...</td>\n",
       "      <td>On Monday, Donald Trump once again embarrassed...</td>\n",
       "      <td>News</td>\n",
       "      <td>May 22, 2017</td>\n",
       "      <td>0</td>\n",
       "      <td>extremely cnnpolitics 22 confirmed israel name...</td>\n",
       "    </tr>\n",
       "    <tr>\n",
       "      <th>4</th>\n",
       "      <td>Donald Trump heads for Scotland to reopen a go...</td>\n",
       "      <td>GLASGOW, Scotland (Reuters) - Most U.S. presid...</td>\n",
       "      <td>politicsNews</td>\n",
       "      <td>June 24, 2016</td>\n",
       "      <td>1</td>\n",
       "      <td>scotland’s united skills arrives homeland mini...</td>\n",
       "    </tr>\n",
       "  </tbody>\n",
       "</table>\n",
       "</div>"
      ],
      "text/plain": [
       "                                               title  \\\n",
       "0  Ben Stein Calls Out 9th Circuit Court: Committ...   \n",
       "1  Trump drops Steve Bannon from National Securit...   \n",
       "2  Puerto Rico expects U.S. to lift Jones Act shi...   \n",
       "3   OOPS: Trump Just Accidentally Confirmed He Le...   \n",
       "4  Donald Trump heads for Scotland to reopen a go...   \n",
       "\n",
       "                                                text       subject  \\\n",
       "0  21st Century Wire says Ben Stein, reputable pr...       US_News   \n",
       "1  WASHINGTON (Reuters) - U.S. President Donald T...  politicsNews   \n",
       "2  (Reuters) - Puerto Rico Governor Ricardo Rosse...  politicsNews   \n",
       "3  On Monday, Donald Trump once again embarrassed...          News   \n",
       "4  GLASGOW, Scotland (Reuters) - Most U.S. presid...  politicsNews   \n",
       "\n",
       "                  date  news_type  \\\n",
       "0    February 13, 2017          0   \n",
       "1       April 5, 2017           1   \n",
       "2  September 27, 2017           1   \n",
       "3         May 22, 2017          0   \n",
       "4       June 24, 2016           1   \n",
       "\n",
       "                                          clean_text  \n",
       "0  jeanine show ferris actual provocative rhetori...  \n",
       "1  anonymity jinping ezra includes november told ...  \n",
       "2  fuel” version show homeland grant food asked p...  \n",
       "3  extremely cnnpolitics 22 confirmed israel name...  \n",
       "4  scotland’s united skills arrives homeland mini...  "
      ]
     },
     "execution_count": 15,
     "metadata": {},
     "output_type": "execute_result"
    }
   ],
   "source": [
    "stop_words = set(stopwords.words('english'))\n",
    "def remove_stopwords(text):\n",
    "    return \" \".join({word for word in text.split() if word not in stop_words})\n",
    "\n",
    "df['clean_text'] = df['clean_text'].apply(lambda x:remove_stopwords(x))\n",
    "df.head()"
   ]
  },
  {
   "cell_type": "code",
   "execution_count": 16,
   "id": "0f63cd3a",
   "metadata": {
    "execution": {
     "iopub.execute_input": "2025-02-28T19:55:26.170169Z",
     "iopub.status.busy": "2025-02-28T19:55:26.169481Z",
     "iopub.status.idle": "2025-02-28T19:55:26.179924Z",
     "shell.execute_reply": "2025-02-28T19:55:26.179059Z"
    },
    "papermill": {
     "duration": 0.020191,
     "end_time": "2025-02-28T19:55:26.181586",
     "exception": false,
     "start_time": "2025-02-28T19:55:26.161395",
     "status": "completed"
    },
    "tags": []
   },
   "outputs": [
    {
     "data": {
      "text/html": [
       "<div>\n",
       "<style scoped>\n",
       "    .dataframe tbody tr th:only-of-type {\n",
       "        vertical-align: middle;\n",
       "    }\n",
       "\n",
       "    .dataframe tbody tr th {\n",
       "        vertical-align: top;\n",
       "    }\n",
       "\n",
       "    .dataframe thead th {\n",
       "        text-align: right;\n",
       "    }\n",
       "</style>\n",
       "<table border=\"1\" class=\"dataframe\">\n",
       "  <thead>\n",
       "    <tr style=\"text-align: right;\">\n",
       "      <th></th>\n",
       "      <th>title</th>\n",
       "      <th>text</th>\n",
       "      <th>subject</th>\n",
       "      <th>date</th>\n",
       "      <th>news_type</th>\n",
       "      <th>clean_text</th>\n",
       "    </tr>\n",
       "  </thead>\n",
       "  <tbody>\n",
       "    <tr>\n",
       "      <th>0</th>\n",
       "      <td>Ben Stein Calls Out 9th Circuit Court: Committ...</td>\n",
       "      <td>21st Century Wire says Ben Stein, reputable pr...</td>\n",
       "      <td>US_News</td>\n",
       "      <td>February 13, 2017</td>\n",
       "      <td>0</td>\n",
       "      <td>jeanine show ferris actual provocative rhetori...</td>\n",
       "    </tr>\n",
       "    <tr>\n",
       "      <th>1</th>\n",
       "      <td>Trump drops Steve Bannon from National Securit...</td>\n",
       "      <td>WASHINGTON (Reuters) - U.S. President Donald T...</td>\n",
       "      <td>politicsNews</td>\n",
       "      <td>April 5, 2017</td>\n",
       "      <td>1</td>\n",
       "      <td>anonymity jinping ezra includes november told ...</td>\n",
       "    </tr>\n",
       "    <tr>\n",
       "      <th>2</th>\n",
       "      <td>Puerto Rico expects U.S. to lift Jones Act shi...</td>\n",
       "      <td>(Reuters) - Puerto Rico Governor Ricardo Rosse...</td>\n",
       "      <td>politicsNews</td>\n",
       "      <td>September 27, 2017</td>\n",
       "      <td>1</td>\n",
       "      <td>fuel” version show homeland grant food asked p...</td>\n",
       "    </tr>\n",
       "    <tr>\n",
       "      <th>3</th>\n",
       "      <td>OOPS: Trump Just Accidentally Confirmed He Le...</td>\n",
       "      <td>On Monday, Donald Trump once again embarrassed...</td>\n",
       "      <td>News</td>\n",
       "      <td>May 22, 2017</td>\n",
       "      <td>0</td>\n",
       "      <td>extremely cnnpolitics 22 confirmed israel name...</td>\n",
       "    </tr>\n",
       "    <tr>\n",
       "      <th>4</th>\n",
       "      <td>Donald Trump heads for Scotland to reopen a go...</td>\n",
       "      <td>GLASGOW, Scotland (Reuters) - Most U.S. presid...</td>\n",
       "      <td>politicsNews</td>\n",
       "      <td>June 24, 2016</td>\n",
       "      <td>1</td>\n",
       "      <td>scotland’s united skills arrives homeland mini...</td>\n",
       "    </tr>\n",
       "    <tr>\n",
       "      <th>...</th>\n",
       "      <td>...</td>\n",
       "      <td>...</td>\n",
       "      <td>...</td>\n",
       "      <td>...</td>\n",
       "      <td>...</td>\n",
       "      <td>...</td>\n",
       "    </tr>\n",
       "    <tr>\n",
       "      <th>44893</th>\n",
       "      <td>UNREAL! CBS’S TED KOPPEL Tells Sean Hannity He...</td>\n",
       "      <td></td>\n",
       "      <td>politics</td>\n",
       "      <td>Mar 27, 2017</td>\n",
       "      <td>0</td>\n",
       "      <td></td>\n",
       "    </tr>\n",
       "    <tr>\n",
       "      <th>44894</th>\n",
       "      <td>PM May seeks to ease Japan's Brexit fears duri...</td>\n",
       "      <td>LONDON/TOKYO (Reuters) - British Prime Ministe...</td>\n",
       "      <td>worldnews</td>\n",
       "      <td>August 29, 2017</td>\n",
       "      <td>1</td>\n",
       "      <td>hokkaido better united position north toyota m...</td>\n",
       "    </tr>\n",
       "    <tr>\n",
       "      <th>44895</th>\n",
       "      <td>Merkel: Difficult German coalition talks can r...</td>\n",
       "      <td>BERLIN (Reuters) - Chancellor Angela Merkel sa...</td>\n",
       "      <td>worldnews</td>\n",
       "      <td>November 16, 2017</td>\n",
       "      <td>1</td>\n",
       "      <td>believes face angela talks today reach chancel...</td>\n",
       "    </tr>\n",
       "    <tr>\n",
       "      <th>44896</th>\n",
       "      <td>Trump Stole An Idea From North Korean Propaga...</td>\n",
       "      <td>Jesus f*cking Christ our President* is a moron...</td>\n",
       "      <td>News</td>\n",
       "      <td>July 14, 2017</td>\n",
       "      <td>0</td>\n",
       "      <td>hey quality 2017so nephew patrick foot brownis...</td>\n",
       "    </tr>\n",
       "    <tr>\n",
       "      <th>44897</th>\n",
       "      <td>BREAKING: HILLARY CLINTON’S STATE DEPARTMENT G...</td>\n",
       "      <td>IF SHE S NOT TOAST NOW THEN WE RE IN BIGGER TR...</td>\n",
       "      <td>politics</td>\n",
       "      <td>Apr 23, 2015</td>\n",
       "      <td>0</td>\n",
       "      <td>initiative agency mines journal fernwood conse...</td>\n",
       "    </tr>\n",
       "  </tbody>\n",
       "</table>\n",
       "<p>44689 rows × 6 columns</p>\n",
       "</div>"
      ],
      "text/plain": [
       "                                                   title  \\\n",
       "0      Ben Stein Calls Out 9th Circuit Court: Committ...   \n",
       "1      Trump drops Steve Bannon from National Securit...   \n",
       "2      Puerto Rico expects U.S. to lift Jones Act shi...   \n",
       "3       OOPS: Trump Just Accidentally Confirmed He Le...   \n",
       "4      Donald Trump heads for Scotland to reopen a go...   \n",
       "...                                                  ...   \n",
       "44893  UNREAL! CBS’S TED KOPPEL Tells Sean Hannity He...   \n",
       "44894  PM May seeks to ease Japan's Brexit fears duri...   \n",
       "44895  Merkel: Difficult German coalition talks can r...   \n",
       "44896   Trump Stole An Idea From North Korean Propaga...   \n",
       "44897  BREAKING: HILLARY CLINTON’S STATE DEPARTMENT G...   \n",
       "\n",
       "                                                    text       subject  \\\n",
       "0      21st Century Wire says Ben Stein, reputable pr...       US_News   \n",
       "1      WASHINGTON (Reuters) - U.S. President Donald T...  politicsNews   \n",
       "2      (Reuters) - Puerto Rico Governor Ricardo Rosse...  politicsNews   \n",
       "3      On Monday, Donald Trump once again embarrassed...          News   \n",
       "4      GLASGOW, Scotland (Reuters) - Most U.S. presid...  politicsNews   \n",
       "...                                                  ...           ...   \n",
       "44893                                                         politics   \n",
       "44894  LONDON/TOKYO (Reuters) - British Prime Ministe...     worldnews   \n",
       "44895  BERLIN (Reuters) - Chancellor Angela Merkel sa...     worldnews   \n",
       "44896  Jesus f*cking Christ our President* is a moron...          News   \n",
       "44897  IF SHE S NOT TOAST NOW THEN WE RE IN BIGGER TR...      politics   \n",
       "\n",
       "                      date  news_type  \\\n",
       "0        February 13, 2017          0   \n",
       "1           April 5, 2017           1   \n",
       "2      September 27, 2017           1   \n",
       "3             May 22, 2017          0   \n",
       "4           June 24, 2016           1   \n",
       "...                    ...        ...   \n",
       "44893         Mar 27, 2017          0   \n",
       "44894     August 29, 2017           1   \n",
       "44895   November 16, 2017           1   \n",
       "44896        July 14, 2017          0   \n",
       "44897         Apr 23, 2015          0   \n",
       "\n",
       "                                              clean_text  \n",
       "0      jeanine show ferris actual provocative rhetori...  \n",
       "1      anonymity jinping ezra includes november told ...  \n",
       "2      fuel” version show homeland grant food asked p...  \n",
       "3      extremely cnnpolitics 22 confirmed israel name...  \n",
       "4      scotland’s united skills arrives homeland mini...  \n",
       "...                                                  ...  \n",
       "44893                                                     \n",
       "44894  hokkaido better united position north toyota m...  \n",
       "44895  believes face angela talks today reach chancel...  \n",
       "44896  hey quality 2017so nephew patrick foot brownis...  \n",
       "44897  initiative agency mines journal fernwood conse...  \n",
       "\n",
       "[44689 rows x 6 columns]"
      ]
     },
     "execution_count": 16,
     "metadata": {},
     "output_type": "execute_result"
    }
   ],
   "source": [
    "df"
   ]
  },
  {
   "cell_type": "code",
   "execution_count": 17,
   "id": "3c1146f6",
   "metadata": {
    "execution": {
     "iopub.execute_input": "2025-02-28T19:55:26.197196Z",
     "iopub.status.busy": "2025-02-28T19:55:26.196931Z",
     "iopub.status.idle": "2025-02-28T19:55:33.605683Z",
     "shell.execute_reply": "2025-02-28T19:55:33.604845Z"
    },
    "papermill": {
     "duration": 7.4189,
     "end_time": "2025-02-28T19:55:33.607733",
     "exception": false,
     "start_time": "2025-02-28T19:55:26.188833",
     "status": "completed"
    },
    "tags": []
   },
   "outputs": [],
   "source": [
    "vocab_sz = 10000\n",
    "tok = Tokenizer(num_words=vocab_sz, oov_token='UNK')\n",
    "tok.fit_on_texts(df['clean_text'])\n",
    "\n"
   ]
  },
  {
   "cell_type": "code",
   "execution_count": 18,
   "id": "a63259d0",
   "metadata": {
    "execution": {
     "iopub.execute_input": "2025-02-28T19:55:33.623873Z",
     "iopub.status.busy": "2025-02-28T19:55:33.623584Z",
     "iopub.status.idle": "2025-02-28T19:55:33.633053Z",
     "shell.execute_reply": "2025-02-28T19:55:33.632422Z"
    },
    "papermill": {
     "duration": 0.019215,
     "end_time": "2025-02-28T19:55:33.634654",
     "exception": false,
     "start_time": "2025-02-28T19:55:33.615439",
     "status": "completed"
    },
    "tags": []
   },
   "outputs": [],
   "source": [
    "from sklearn.model_selection import train_test_split\n",
    "x_train,x_test , y_train,y_test = train_test_split(df['clean_text'],df['news_type'],test_size=0.2,random_state=42)"
   ]
  },
  {
   "cell_type": "code",
   "execution_count": 19,
   "id": "e78cb025",
   "metadata": {
    "execution": {
     "iopub.execute_input": "2025-02-28T19:55:33.650375Z",
     "iopub.status.busy": "2025-02-28T19:55:33.649852Z",
     "iopub.status.idle": "2025-02-28T19:55:38.286905Z",
     "shell.execute_reply": "2025-02-28T19:55:38.286030Z"
    },
    "papermill": {
     "duration": 4.64714,
     "end_time": "2025-02-28T19:55:38.289025",
     "exception": false,
     "start_time": "2025-02-28T19:55:33.641885",
     "status": "completed"
    },
    "tags": []
   },
   "outputs": [],
   "source": [
    "# Convert texts to sequences\n",
    "x_train_seq = tok.texts_to_sequences(x_train)\n",
    "x_test_seq = tok.texts_to_sequences(x_test)"
   ]
  },
  {
   "cell_type": "code",
   "execution_count": 20,
   "id": "fd37f446",
   "metadata": {
    "execution": {
     "iopub.execute_input": "2025-02-28T19:55:38.306032Z",
     "iopub.status.busy": "2025-02-28T19:55:38.305230Z",
     "iopub.status.idle": "2025-02-28T19:55:38.316287Z",
     "shell.execute_reply": "2025-02-28T19:55:38.315533Z"
    },
    "papermill": {
     "duration": 0.021372,
     "end_time": "2025-02-28T19:55:38.318066",
     "exception": false,
     "start_time": "2025-02-28T19:55:38.296694",
     "status": "completed"
    },
    "tags": []
   },
   "outputs": [],
   "source": [
    "from sklearn.preprocessing import LabelEncoder\n",
    "lb = LabelEncoder()\n",
    "y_train = lb.fit_transform(y_train)\n",
    "y_test = lb.transform(y_test)"
   ]
  },
  {
   "cell_type": "code",
   "execution_count": 21,
   "id": "90292268",
   "metadata": {
    "execution": {
     "iopub.execute_input": "2025-02-28T19:55:38.334448Z",
     "iopub.status.busy": "2025-02-28T19:55:38.333802Z",
     "iopub.status.idle": "2025-02-28T19:55:38.339901Z",
     "shell.execute_reply": "2025-02-28T19:55:38.339059Z"
    },
    "papermill": {
     "duration": 0.016079,
     "end_time": "2025-02-28T19:55:38.341455",
     "exception": false,
     "start_time": "2025-02-28T19:55:38.325376",
     "status": "completed"
    },
    "tags": []
   },
   "outputs": [
    {
     "data": {
      "text/plain": [
       "array([0, 1])"
      ]
     },
     "execution_count": 21,
     "metadata": {},
     "output_type": "execute_result"
    }
   ],
   "source": [
    "classes_lb = lb.classes_\n",
    "classes_lb"
   ]
  },
  {
   "cell_type": "code",
   "execution_count": 22,
   "id": "12ef571c",
   "metadata": {
    "execution": {
     "iopub.execute_input": "2025-02-28T19:55:38.357583Z",
     "iopub.status.busy": "2025-02-28T19:55:38.357240Z",
     "iopub.status.idle": "2025-02-28T19:56:10.241135Z",
     "shell.execute_reply": "2025-02-28T19:56:10.240158Z"
    },
    "papermill": {
     "duration": 31.894584,
     "end_time": "2025-02-28T19:56:10.243468",
     "exception": false,
     "start_time": "2025-02-28T19:55:38.348884",
     "status": "completed"
    },
    "tags": []
   },
   "outputs": [],
   "source": [
    "def get_max_len(texts):\n",
    "  return max([len(word_tokenize(text)) for text in texts])\n",
    "maxlen = get_max_len(df['clean_text'])\n",
    "#maxlen = 100\n"
   ]
  },
  {
   "cell_type": "code",
   "execution_count": 23,
   "id": "89d2a421",
   "metadata": {
    "execution": {
     "iopub.execute_input": "2025-02-28T19:56:10.260879Z",
     "iopub.status.busy": "2025-02-28T19:56:10.260038Z",
     "iopub.status.idle": "2025-02-28T19:56:10.265986Z",
     "shell.execute_reply": "2025-02-28T19:56:10.265210Z"
    },
    "papermill": {
     "duration": 0.016105,
     "end_time": "2025-02-28T19:56:10.267514",
     "exception": false,
     "start_time": "2025-02-28T19:56:10.251409",
     "status": "completed"
    },
    "tags": []
   },
   "outputs": [
    {
     "data": {
      "text/plain": [
       "2396"
      ]
     },
     "execution_count": 23,
     "metadata": {},
     "output_type": "execute_result"
    }
   ],
   "source": [
    "maxlen"
   ]
  },
  {
   "cell_type": "code",
   "execution_count": 24,
   "id": "5d55f4bc",
   "metadata": {
    "execution": {
     "iopub.execute_input": "2025-02-28T19:56:10.283953Z",
     "iopub.status.busy": "2025-02-28T19:56:10.283313Z",
     "iopub.status.idle": "2025-02-28T19:56:10.287335Z",
     "shell.execute_reply": "2025-02-28T19:56:10.286505Z"
    },
    "papermill": {
     "duration": 0.014271,
     "end_time": "2025-02-28T19:56:10.289285",
     "exception": false,
     "start_time": "2025-02-28T19:56:10.275014",
     "status": "completed"
    },
    "tags": []
   },
   "outputs": [],
   "source": [
    "maxlen=2400"
   ]
  },
  {
   "cell_type": "code",
   "execution_count": 25,
   "id": "a28cd114",
   "metadata": {
    "execution": {
     "iopub.execute_input": "2025-02-28T19:56:10.319210Z",
     "iopub.status.busy": "2025-02-28T19:56:10.318955Z",
     "iopub.status.idle": "2025-02-28T19:56:10.770515Z",
     "shell.execute_reply": "2025-02-28T19:56:10.769581Z"
    },
    "papermill": {
     "duration": 0.46866,
     "end_time": "2025-02-28T19:56:10.772631",
     "exception": false,
     "start_time": "2025-02-28T19:56:10.303971",
     "status": "completed"
    },
    "tags": []
   },
   "outputs": [],
   "source": [
    "# Pad sequences to the same length\n",
    "x_train = pad_sequences(x_train_seq, maxlen=maxlen, padding='post', truncating='post')  # Adjust `maxlen` as needed\n",
    "x_test = pad_sequences(x_test_seq, maxlen=maxlen, padding='post', truncating='post')\n"
   ]
  },
  {
   "cell_type": "code",
   "execution_count": 26,
   "id": "9ca54412",
   "metadata": {
    "execution": {
     "iopub.execute_input": "2025-02-28T19:56:10.789684Z",
     "iopub.status.busy": "2025-02-28T19:56:10.789171Z",
     "iopub.status.idle": "2025-02-28T19:56:10.794329Z",
     "shell.execute_reply": "2025-02-28T19:56:10.793320Z"
    },
    "papermill": {
     "duration": 0.015458,
     "end_time": "2025-02-28T19:56:10.796123",
     "exception": false,
     "start_time": "2025-02-28T19:56:10.780665",
     "status": "completed"
    },
    "tags": []
   },
   "outputs": [
    {
     "name": "stdout",
     "output_type": "stream",
     "text": [
      "First padded training sequence: [184   1 115 ...   0   0   0]\n",
      "First padded testing sequence: [6152 6195  140 ...    0    0    0]\n"
     ]
    }
   ],
   "source": [
    "print(\"First padded training sequence:\", x_train[0])\n",
    "print(\"First padded testing sequence:\", x_test[0])\n"
   ]
  },
  {
   "cell_type": "code",
   "execution_count": 27,
   "id": "32bc4b3f",
   "metadata": {
    "execution": {
     "iopub.execute_input": "2025-02-28T19:56:10.812446Z",
     "iopub.status.busy": "2025-02-28T19:56:10.812184Z",
     "iopub.status.idle": "2025-02-28T19:56:11.739400Z",
     "shell.execute_reply": "2025-02-28T19:56:11.738575Z"
    },
    "papermill": {
     "duration": 0.937391,
     "end_time": "2025-02-28T19:56:11.741095",
     "exception": false,
     "start_time": "2025-02-28T19:56:10.803704",
     "status": "completed"
    },
    "tags": []
   },
   "outputs": [
    {
     "name": "stderr",
     "output_type": "stream",
     "text": [
      "/opt/conda/lib/python3.10/site-packages/keras/src/layers/core/embedding.py:90: UserWarning: Argument `input_length` is deprecated. Just remove it.\n",
      "  warnings.warn(\n"
     ]
    },
    {
     "data": {
      "text/html": [
       "<pre style=\"white-space:pre;overflow-x:auto;line-height:normal;font-family:Menlo,'DejaVu Sans Mono',consolas,'Courier New',monospace\"><span style=\"font-weight: bold\">Model: \"sequential\"</span>\n",
       "</pre>\n"
      ],
      "text/plain": [
       "\u001b[1mModel: \"sequential\"\u001b[0m\n"
      ]
     },
     "metadata": {},
     "output_type": "display_data"
    },
    {
     "data": {
      "text/html": [
       "<pre style=\"white-space:pre;overflow-x:auto;line-height:normal;font-family:Menlo,'DejaVu Sans Mono',consolas,'Courier New',monospace\">┏━━━━━━━━━━━━━━━━━━━━━━━━━━━━━━━━━┳━━━━━━━━━━━━━━━━━━━━━━━━┳━━━━━━━━━━━━━━━┓\n",
       "┃<span style=\"font-weight: bold\"> Layer (type)                    </span>┃<span style=\"font-weight: bold\"> Output Shape           </span>┃<span style=\"font-weight: bold\">       Param # </span>┃\n",
       "┡━━━━━━━━━━━━━━━━━━━━━━━━━━━━━━━━━╇━━━━━━━━━━━━━━━━━━━━━━━━╇━━━━━━━━━━━━━━━┩\n",
       "│ embedding (<span style=\"color: #0087ff; text-decoration-color: #0087ff\">Embedding</span>)           │ ?                      │   <span style=\"color: #00af00; text-decoration-color: #00af00\">0</span> (unbuilt) │\n",
       "├─────────────────────────────────┼────────────────────────┼───────────────┤\n",
       "│ lstm (<span style=\"color: #0087ff; text-decoration-color: #0087ff\">LSTM</span>)                     │ ?                      │   <span style=\"color: #00af00; text-decoration-color: #00af00\">0</span> (unbuilt) │\n",
       "├─────────────────────────────────┼────────────────────────┼───────────────┤\n",
       "│ dropout (<span style=\"color: #0087ff; text-decoration-color: #0087ff\">Dropout</span>)               │ ?                      │   <span style=\"color: #00af00; text-decoration-color: #00af00\">0</span> (unbuilt) │\n",
       "├─────────────────────────────────┼────────────────────────┼───────────────┤\n",
       "│ lstm_1 (<span style=\"color: #0087ff; text-decoration-color: #0087ff\">LSTM</span>)                   │ ?                      │   <span style=\"color: #00af00; text-decoration-color: #00af00\">0</span> (unbuilt) │\n",
       "├─────────────────────────────────┼────────────────────────┼───────────────┤\n",
       "│ dropout_1 (<span style=\"color: #0087ff; text-decoration-color: #0087ff\">Dropout</span>)             │ ?                      │   <span style=\"color: #00af00; text-decoration-color: #00af00\">0</span> (unbuilt) │\n",
       "├─────────────────────────────────┼────────────────────────┼───────────────┤\n",
       "│ lstm_2 (<span style=\"color: #0087ff; text-decoration-color: #0087ff\">LSTM</span>)                   │ ?                      │   <span style=\"color: #00af00; text-decoration-color: #00af00\">0</span> (unbuilt) │\n",
       "├─────────────────────────────────┼────────────────────────┼───────────────┤\n",
       "│ dropout_2 (<span style=\"color: #0087ff; text-decoration-color: #0087ff\">Dropout</span>)             │ ?                      │   <span style=\"color: #00af00; text-decoration-color: #00af00\">0</span> (unbuilt) │\n",
       "├─────────────────────────────────┼────────────────────────┼───────────────┤\n",
       "│ dense (<span style=\"color: #0087ff; text-decoration-color: #0087ff\">Dense</span>)                   │ ?                      │   <span style=\"color: #00af00; text-decoration-color: #00af00\">0</span> (unbuilt) │\n",
       "├─────────────────────────────────┼────────────────────────┼───────────────┤\n",
       "│ batch_normalization             │ ?                      │   <span style=\"color: #00af00; text-decoration-color: #00af00\">0</span> (unbuilt) │\n",
       "│ (<span style=\"color: #0087ff; text-decoration-color: #0087ff\">BatchNormalization</span>)            │                        │               │\n",
       "├─────────────────────────────────┼────────────────────────┼───────────────┤\n",
       "│ dropout_3 (<span style=\"color: #0087ff; text-decoration-color: #0087ff\">Dropout</span>)             │ ?                      │   <span style=\"color: #00af00; text-decoration-color: #00af00\">0</span> (unbuilt) │\n",
       "├─────────────────────────────────┼────────────────────────┼───────────────┤\n",
       "│ dense_1 (<span style=\"color: #0087ff; text-decoration-color: #0087ff\">Dense</span>)                 │ ?                      │   <span style=\"color: #00af00; text-decoration-color: #00af00\">0</span> (unbuilt) │\n",
       "└─────────────────────────────────┴────────────────────────┴───────────────┘\n",
       "</pre>\n"
      ],
      "text/plain": [
       "┏━━━━━━━━━━━━━━━━━━━━━━━━━━━━━━━━━┳━━━━━━━━━━━━━━━━━━━━━━━━┳━━━━━━━━━━━━━━━┓\n",
       "┃\u001b[1m \u001b[0m\u001b[1mLayer (type)                   \u001b[0m\u001b[1m \u001b[0m┃\u001b[1m \u001b[0m\u001b[1mOutput Shape          \u001b[0m\u001b[1m \u001b[0m┃\u001b[1m \u001b[0m\u001b[1m      Param #\u001b[0m\u001b[1m \u001b[0m┃\n",
       "┡━━━━━━━━━━━━━━━━━━━━━━━━━━━━━━━━━╇━━━━━━━━━━━━━━━━━━━━━━━━╇━━━━━━━━━━━━━━━┩\n",
       "│ embedding (\u001b[38;5;33mEmbedding\u001b[0m)           │ ?                      │   \u001b[38;5;34m0\u001b[0m (unbuilt) │\n",
       "├─────────────────────────────────┼────────────────────────┼───────────────┤\n",
       "│ lstm (\u001b[38;5;33mLSTM\u001b[0m)                     │ ?                      │   \u001b[38;5;34m0\u001b[0m (unbuilt) │\n",
       "├─────────────────────────────────┼────────────────────────┼───────────────┤\n",
       "│ dropout (\u001b[38;5;33mDropout\u001b[0m)               │ ?                      │   \u001b[38;5;34m0\u001b[0m (unbuilt) │\n",
       "├─────────────────────────────────┼────────────────────────┼───────────────┤\n",
       "│ lstm_1 (\u001b[38;5;33mLSTM\u001b[0m)                   │ ?                      │   \u001b[38;5;34m0\u001b[0m (unbuilt) │\n",
       "├─────────────────────────────────┼────────────────────────┼───────────────┤\n",
       "│ dropout_1 (\u001b[38;5;33mDropout\u001b[0m)             │ ?                      │   \u001b[38;5;34m0\u001b[0m (unbuilt) │\n",
       "├─────────────────────────────────┼────────────────────────┼───────────────┤\n",
       "│ lstm_2 (\u001b[38;5;33mLSTM\u001b[0m)                   │ ?                      │   \u001b[38;5;34m0\u001b[0m (unbuilt) │\n",
       "├─────────────────────────────────┼────────────────────────┼───────────────┤\n",
       "│ dropout_2 (\u001b[38;5;33mDropout\u001b[0m)             │ ?                      │   \u001b[38;5;34m0\u001b[0m (unbuilt) │\n",
       "├─────────────────────────────────┼────────────────────────┼───────────────┤\n",
       "│ dense (\u001b[38;5;33mDense\u001b[0m)                   │ ?                      │   \u001b[38;5;34m0\u001b[0m (unbuilt) │\n",
       "├─────────────────────────────────┼────────────────────────┼───────────────┤\n",
       "│ batch_normalization             │ ?                      │   \u001b[38;5;34m0\u001b[0m (unbuilt) │\n",
       "│ (\u001b[38;5;33mBatchNormalization\u001b[0m)            │                        │               │\n",
       "├─────────────────────────────────┼────────────────────────┼───────────────┤\n",
       "│ dropout_3 (\u001b[38;5;33mDropout\u001b[0m)             │ ?                      │   \u001b[38;5;34m0\u001b[0m (unbuilt) │\n",
       "├─────────────────────────────────┼────────────────────────┼───────────────┤\n",
       "│ dense_1 (\u001b[38;5;33mDense\u001b[0m)                 │ ?                      │   \u001b[38;5;34m0\u001b[0m (unbuilt) │\n",
       "└─────────────────────────────────┴────────────────────────┴───────────────┘\n"
      ]
     },
     "metadata": {},
     "output_type": "display_data"
    },
    {
     "data": {
      "text/html": [
       "<pre style=\"white-space:pre;overflow-x:auto;line-height:normal;font-family:Menlo,'DejaVu Sans Mono',consolas,'Courier New',monospace\"><span style=\"font-weight: bold\"> Total params: </span><span style=\"color: #00af00; text-decoration-color: #00af00\">0</span> (0.00 B)\n",
       "</pre>\n"
      ],
      "text/plain": [
       "\u001b[1m Total params: \u001b[0m\u001b[38;5;34m0\u001b[0m (0.00 B)\n"
      ]
     },
     "metadata": {},
     "output_type": "display_data"
    },
    {
     "data": {
      "text/html": [
       "<pre style=\"white-space:pre;overflow-x:auto;line-height:normal;font-family:Menlo,'DejaVu Sans Mono',consolas,'Courier New',monospace\"><span style=\"font-weight: bold\"> Trainable params: </span><span style=\"color: #00af00; text-decoration-color: #00af00\">0</span> (0.00 B)\n",
       "</pre>\n"
      ],
      "text/plain": [
       "\u001b[1m Trainable params: \u001b[0m\u001b[38;5;34m0\u001b[0m (0.00 B)\n"
      ]
     },
     "metadata": {},
     "output_type": "display_data"
    },
    {
     "data": {
      "text/html": [
       "<pre style=\"white-space:pre;overflow-x:auto;line-height:normal;font-family:Menlo,'DejaVu Sans Mono',consolas,'Courier New',monospace\"><span style=\"font-weight: bold\"> Non-trainable params: </span><span style=\"color: #00af00; text-decoration-color: #00af00\">0</span> (0.00 B)\n",
       "</pre>\n"
      ],
      "text/plain": [
       "\u001b[1m Non-trainable params: \u001b[0m\u001b[38;5;34m0\u001b[0m (0.00 B)\n"
      ]
     },
     "metadata": {},
     "output_type": "display_data"
    }
   ],
   "source": [
    "from keras.models import Sequential\n",
    "from keras.layers import Dense, Dropout\n",
    "from keras.layers import Embedding\n",
    "from keras.layers import LSTM\n",
    "from tensorflow.keras.layers import BatchNormalization\n",
    "\n",
    "embedding_size = 100\n",
    "\n",
    "# Model: Enhanced LSTM with multiple layers\n",
    "model = Sequential()\n",
    "model.add(Embedding(vocab_sz + 1, embedding_size, mask_zero=True, input_length=maxlen))\n",
    "\n",
    "# Add the first LSTM layer\n",
    "model.add(LSTM(100, return_sequences=True,recurrent_dropout=0.2,dropout=0.2))  # Return sequences to pass to the next LSTM layer\n",
    "model.add(Dropout(0.3))  # Dropout to prevent overfitting\n",
    "\n",
    "# Add a second LSTM layer\n",
    "model.add(LSTM(100, return_sequences=True,recurrent_dropout=0.2,dropout=0.2))\n",
    "model.add(Dropout(0.3))\n",
    "\n",
    "# Add a third LSTM layer\n",
    "model.add(LSTM(100,recurrent_dropout=0.2,dropout=0.2))\n",
    "model.add(Dropout(0.3))\n",
    "\n",
    "# Add a fully connected layer\n",
    "model.add(Dense(64, activation='relu'))  # Intermediate dense layer for more learning capacity\n",
    "model.add(BatchNormalization())\n",
    "model.add(Dropout(0.3))  # Dropout for dense layer\n",
    "\n",
    "# Output layer\n",
    "model.add(Dense(2, activation='softmax'))  # For classification\n",
    "\n",
    "# Compile the model\n",
    "model.compile(\n",
    "    loss='sparse_categorical_crossentropy',  # Use sparse if labels are integers\n",
    "    optimizer='adam',\n",
    "    metrics=['accuracy']\n",
    ")\n",
    "\n",
    "# Model summary\n",
    "model.summary()\n"
   ]
  },
  {
   "cell_type": "code",
   "execution_count": 28,
   "id": "bde9672a",
   "metadata": {
    "execution": {
     "iopub.execute_input": "2025-02-28T19:56:11.759181Z",
     "iopub.status.busy": "2025-02-28T19:56:11.758906Z",
     "iopub.status.idle": "2025-02-28T19:56:11.762760Z",
     "shell.execute_reply": "2025-02-28T19:56:11.762077Z"
    },
    "papermill": {
     "duration": 0.01445,
     "end_time": "2025-02-28T19:56:11.764308",
     "exception": false,
     "start_time": "2025-02-28T19:56:11.749858",
     "status": "completed"
    },
    "tags": []
   },
   "outputs": [],
   "source": [
    "from tensorflow.keras.callbacks import EarlyStopping\n",
    "checkpoint = EarlyStopping(monitor='val_accuracy',patience = 5 ,mode='max')\n",
    "callbacks_lst = [checkpoint]\n"
   ]
  },
  {
   "cell_type": "code",
   "execution_count": 29,
   "id": "6e203409",
   "metadata": {
    "execution": {
     "iopub.execute_input": "2025-02-28T19:56:11.782081Z",
     "iopub.status.busy": "2025-02-28T19:56:11.781583Z",
     "iopub.status.idle": "2025-02-28T23:54:31.446235Z",
     "shell.execute_reply": "2025-02-28T23:54:31.445293Z"
    },
    "papermill": {
     "duration": 14299.702317,
     "end_time": "2025-02-28T23:54:31.474993",
     "exception": false,
     "start_time": "2025-02-28T19:56:11.772676",
     "status": "completed"
    },
    "tags": []
   },
   "outputs": [
    {
     "name": "stdout",
     "output_type": "stream",
     "text": [
      "Train...\n",
      "Epoch 1/10\n",
      "\u001b[1m112/112\u001b[0m \u001b[32m━━━━━━━━━━━━━━━━━━━━\u001b[0m\u001b[37m\u001b[0m \u001b[1m1601s\u001b[0m 14s/step - accuracy: 0.8968 - loss: 0.2113 - val_accuracy: 0.9934 - val_loss: 0.1242\n",
      "Epoch 2/10\n",
      "\u001b[1m112/112\u001b[0m \u001b[32m━━━━━━━━━━━━━━━━━━━━\u001b[0m\u001b[37m\u001b[0m \u001b[1m1586s\u001b[0m 14s/step - accuracy: 0.9939 - loss: 0.0203 - val_accuracy: 0.9929 - val_loss: 0.0310\n",
      "Epoch 3/10\n",
      "\u001b[1m112/112\u001b[0m \u001b[32m━━━━━━━━━━━━━━━━━━━━\u001b[0m\u001b[37m\u001b[0m \u001b[1m1582s\u001b[0m 14s/step - accuracy: 0.9969 - loss: 0.0120 - val_accuracy: 0.9926 - val_loss: 0.0313\n",
      "Epoch 4/10\n",
      "\u001b[1m112/112\u001b[0m \u001b[32m━━━━━━━━━━━━━━━━━━━━\u001b[0m\u001b[37m\u001b[0m \u001b[1m1582s\u001b[0m 14s/step - accuracy: 0.9965 - loss: 0.0116 - val_accuracy: 0.9944 - val_loss: 0.0240\n",
      "Epoch 5/10\n",
      "\u001b[1m112/112\u001b[0m \u001b[32m━━━━━━━━━━━━━━━━━━━━\u001b[0m\u001b[37m\u001b[0m \u001b[1m1582s\u001b[0m 14s/step - accuracy: 0.9985 - loss: 0.0060 - val_accuracy: 0.9937 - val_loss: 0.0246\n",
      "Epoch 6/10\n",
      "\u001b[1m112/112\u001b[0m \u001b[32m━━━━━━━━━━━━━━━━━━━━\u001b[0m\u001b[37m\u001b[0m \u001b[1m1579s\u001b[0m 14s/step - accuracy: 0.9985 - loss: 0.0059 - val_accuracy: 0.9890 - val_loss: 0.0415\n",
      "Epoch 7/10\n",
      "\u001b[1m112/112\u001b[0m \u001b[32m━━━━━━━━━━━━━━━━━━━━\u001b[0m\u001b[37m\u001b[0m \u001b[1m1588s\u001b[0m 14s/step - accuracy: 0.9977 - loss: 0.0071 - val_accuracy: 0.9940 - val_loss: 0.0226\n",
      "Epoch 8/10\n",
      "\u001b[1m112/112\u001b[0m \u001b[32m━━━━━━━━━━━━━━━━━━━━\u001b[0m\u001b[37m\u001b[0m \u001b[1m1596s\u001b[0m 14s/step - accuracy: 0.9983 - loss: 0.0057 - val_accuracy: 0.9944 - val_loss: 0.0288\n",
      "Epoch 9/10\n",
      "\u001b[1m112/112\u001b[0m \u001b[32m━━━━━━━━━━━━━━━━━━━━\u001b[0m\u001b[37m\u001b[0m \u001b[1m1601s\u001b[0m 14s/step - accuracy: 0.9986 - loss: 0.0086 - val_accuracy: 0.9916 - val_loss: 0.0310\n"
     ]
    }
   ],
   "source": [
    "model.compile(loss='sparse_categorical_crossentropy',\n",
    "              optimizer='adam',\n",
    "              metrics=['accuracy'])\n",
    "\n",
    "callbacks_lst = [checkpoint]\n",
    "# Training\n",
    "batch_size = 256\n",
    "epochs = 10\n",
    "print('Train...')\n",
    "history = model.fit(x_train, y_train,\n",
    "          batch_size=batch_size,\n",
    "          epochs=epochs,\n",
    "          validation_split=0.2,\n",
    "          callbacks=callbacks_lst)\n",
    "\n"
   ]
  },
  {
   "cell_type": "code",
   "execution_count": 30,
   "id": "5081894b",
   "metadata": {
    "execution": {
     "iopub.execute_input": "2025-02-28T23:54:31.583372Z",
     "iopub.status.busy": "2025-02-28T23:54:31.582667Z",
     "iopub.status.idle": "2025-02-28T23:54:31.838274Z",
     "shell.execute_reply": "2025-02-28T23:54:31.837455Z"
    },
    "papermill": {
     "duration": 0.312024,
     "end_time": "2025-02-28T23:54:31.840239",
     "exception": false,
     "start_time": "2025-02-28T23:54:31.528215",
     "status": "completed"
    },
    "tags": []
   },
   "outputs": [
    {
     "data": {
      "image/png": "[encoded data removed]",
      "text/plain": [
       "<Figure size 640x480 with 1 Axes>"
      ]
     },
     "metadata": {},
     "output_type": "display_data"
    }
   ],
   "source": [
    "\n",
    "acc = history.history['accuracy']\n",
    "val_acc = history.history['val_accuracy']\n",
    "loss = history.history['loss']\n",
    "val_loss = history.history['val_loss']\n",
    "\n",
    "epochs = range(1, len(acc) + 1)\n",
    "\n",
    "# \"bo\" is for \"blue dot\"\n",
    "plt.plot(epochs, loss, label='Training loss')\n",
    "# b is for \"solid blue line\"\n",
    "plt.plot(epochs, val_loss, label='Validation loss')\n",
    "plt.title('Training and validation loss')\n",
    "plt.xlabel('Epochs')\n",
    "plt.ylabel('Loss')\n",
    "plt.legend()\n",
    "\n",
    "plt.show()"
   ]
  },
  {
   "cell_type": "code",
   "execution_count": 31,
   "id": "62a1f412",
   "metadata": {
    "execution": {
     "iopub.execute_input": "2025-02-28T23:54:31.951952Z",
     "iopub.status.busy": "2025-02-28T23:54:31.951311Z",
     "iopub.status.idle": "2025-02-28T23:54:32.230457Z",
     "shell.execute_reply": "2025-02-28T23:54:32.229348Z"
    },
    "papermill": {
     "duration": 0.335938,
     "end_time": "2025-02-28T23:54:32.232349",
     "exception": false,
     "start_time": "2025-02-28T23:54:31.896411",
     "status": "completed"
    },
    "tags": []
   },
   "outputs": [
    {
     "data": {
      "image/png": "[encoded data removed]",
      "text/plain": [
       "<Figure size 640x480 with 1 Axes>"
      ]
     },
     "metadata": {},
     "output_type": "display_data"
    }
   ],
   "source": [
    "\n",
    "plt.clf()   # clear figure\n",
    "acc_values = history.history['accuracy']\n",
    "val_acc_values = history.history['val_accuracy']\n",
    "\n",
    "plt.plot(epochs, acc, label='Training acc')\n",
    "plt.plot(epochs, val_acc, label='Validation acc')\n",
    "plt.title('Training and validation accuracy')\n",
    "plt.xlabel('Epochs')\n",
    "plt.ylabel('Loss')\n",
    "plt.legend()\n",
    "\n",
    "plt.show()"
   ]
  },
  {
   "cell_type": "code",
   "execution_count": 32,
   "id": "eb3d691a",
   "metadata": {
    "execution": {
     "iopub.execute_input": "2025-02-28T23:54:32.370973Z",
     "iopub.status.busy": "2025-02-28T23:54:32.370118Z",
     "iopub.status.idle": "2025-03-01T00:06:50.837649Z",
     "shell.execute_reply": "2025-03-01T00:06:50.836793Z"
    },
    "papermill": {
     "duration": 738.550454,
     "end_time": "2025-03-01T00:06:50.839280",
     "exception": false,
     "start_time": "2025-02-28T23:54:32.288826",
     "status": "completed"
    },
    "tags": []
   },
   "outputs": [
    {
     "name": "stdout",
     "output_type": "stream",
     "text": [
      "\u001b[1m280/280\u001b[0m \u001b[32m━━━━━━━━━━━━━━━━━━━━\u001b[0m\u001b[37m\u001b[0m \u001b[1m738s\u001b[0m 3s/step - accuracy: 0.9912 - loss: 0.0309\n",
      "Loss: 0.03152899816632271\n",
      "compile_metrics: 0.9914969801902771\n"
     ]
    }
   ],
   "source": [
    "# Evaluate the model\n",
    "results = model.evaluate(x_test, y_test, verbose=1)\n",
    "\n",
    "# Print the results\n",
    "print(f\"Loss: {results[0]}\")\n",
    "for i, metric_name in enumerate(model.metrics_names[1:], start=1):\n",
    "    print(f\"{metric_name}: {results[i]}\")\n"
   ]
  },
  {
   "cell_type": "code",
   "execution_count": 33,
   "id": "b059d252",
   "metadata": {
    "execution": {
     "iopub.execute_input": "2025-03-01T00:06:50.975603Z",
     "iopub.status.busy": "2025-03-01T00:06:50.974783Z",
     "iopub.status.idle": "2025-03-01T00:19:03.009558Z",
     "shell.execute_reply": "2025-03-01T00:19:03.008626Z"
    },
    "papermill": {
     "duration": 732.103507,
     "end_time": "2025-03-01T00:19:03.011357",
     "exception": false,
     "start_time": "2025-03-01T00:06:50.907850",
     "status": "completed"
    },
    "tags": []
   },
   "outputs": [
    {
     "name": "stdout",
     "output_type": "stream",
     "text": [
      "\u001b[1m280/280\u001b[0m \u001b[32m━━━━━━━━━━━━━━━━━━━━\u001b[0m\u001b[37m\u001b[0m \u001b[1m732s\u001b[0m 3s/step\n",
      "Confusion Matrix:\n",
      "[[4621   31]\n",
      " [  45 4241]]\n",
      "Classification Report:\n",
      "              precision    recall  f1-score   support\n",
      "\n",
      "           0       0.99      0.99      0.99      4652\n",
      "           1       0.99      0.99      0.99      4286\n",
      "\n",
      "    accuracy                           0.99      8938\n",
      "   macro avg       0.99      0.99      0.99      8938\n",
      "weighted avg       0.99      0.99      0.99      8938\n",
      "\n"
     ]
    }
   ],
   "source": [
    "y_pred_probs = model.predict(x_test)\n",
    "y_pred = np.argmax(y_pred_probs, axis=1)  # Convert softmax output to class labels\n",
    "\n",
    "print(\"Confusion Matrix:\")\n",
    "print(confusion_matrix(y_test, y_pred))\n",
    "\n",
    "print(\"Classification Report:\")\n",
    "print(classification_report(y_test, y_pred))"
   ]
  }
 ],
 "metadata": {
  "kaggle": {
   "accelerator": "gpu",
   "dataSources": [
    {
     "datasetId": 4831777,
     "sourceId": 8165591,
     "sourceType": "datasetVersion"
    }
   ],
   "dockerImageVersionId": 30805,
   "isGpuEnabled": true,
   "isInternetEnabled": true,
   "language": "python",
   "sourceType": "notebook"
  },
  "kernelspec": {
   "display_name": "Python 3 (ipykernel)",
   "language": "python",
   "name": "python3"
  },
  "language_info": {
   "codemirror_mode": {
    "name": "ipython",
    "version": 3
   },
   "file_extension": ".py",
   "mimetype": "text/x-python",
   "name": "python",
   "nbconvert_exporter": "python",
   "pygments_lexer": "ipython3",
   "version": "3.11.7"
  },
  "papermill": {
   "default_parameters": {},
   "duration": 16048.890875,
   "end_time": "2025-03-01T00:22:27.435928",
   "environment_variables": {},
   "exception": null,
   "input_path": "__notebook__.ipynb",
   "output_path": "__notebook__.ipynb",
   "parameters": {},
   "start_time": "2025-02-28T19:54:58.545053",
   "version": "2.6.0"
  }
 },
 "nbformat": 4,
 "nbformat_minor": 5
}
